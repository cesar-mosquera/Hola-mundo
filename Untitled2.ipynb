{
  "nbformat": 4,
  "nbformat_minor": 0,
  "metadata": {
    "colab": {
      "provenance": [],
      "authorship_tag": "ABX9TyPva0OjsojazHf+HlbWRGXf",
      "include_colab_link": true
    },
    "kernelspec": {
      "name": "python3",
      "display_name": "Python 3"
    },
    "language_info": {
      "name": "python"
    }
  },
  "cells": [
    {
      "cell_type": "markdown",
      "metadata": {
        "id": "view-in-github",
        "colab_type": "text"
      },
      "source": [
        "<a href=\"https://colab.research.google.com/github/cesar-mosquera/Hola-mundo/blob/main/Untitled2.ipynb\" target=\"_parent\"><img src=\"https://colab.research.google.com/assets/colab-badge.svg\" alt=\"Open In Colab\"/></a>"
      ]
    },
    {
      "cell_type": "code",
      "execution_count": null,
      "metadata": {
        "id": "lazHy2OZwKIu"
      },
      "outputs": [],
      "source": []
    },
    {
      "cell_type": "markdown",
      "source": [
        "[link text](https://)"
      ],
      "metadata": {
        "id": "LFWksbEwwKuh"
      }
    },
    {
      "cell_type": "markdown",
      "source": [
        "#hola mundo en pascal\n",
        "Pascal es un lenguaje de programación estructurado, creado para enseñar buenos principios de programación y facilitar el aprendizaje de conceptos básicos.\n",
        "\n",
        "\n",
        "\n",
        "\n",
        "https://infodigital.ciberlinea.net/programacion/lenguaje-de-programacion-pascal/\n",
        "https://www.aprendeaprogramar.com/cursos/verApartado.php?id=1001"
      ],
      "metadata": {
        "id": "Q2HxqOVOwg-v"
      }
    },
    {
      "cell_type": "code",
      "source": [
        "program HolaMundo;\n",
        "begin\n",
        "  writeln('Hola, mundo!');\n",
        "end."
      ],
      "metadata": {
        "id": "QlFr52dlwqEw"
      },
      "execution_count": null,
      "outputs": []
    },
    {
      "cell_type": "markdown",
      "source": [
        "#hola mundo en bash\n",
        "\n",
        "\n",
        "Este programa ejecuta las instrucciones del usuario una por una, ya sea que se ingresen directamente en una ventana de texto o estén escritas en un archivo tipo script o bash script, y luego muestra los resultados correspondientes.\n",
        "\n",
        "https://keepcoding.io/blog/que-es-bash-shell-y-como-funciona/\n",
        "https://www.cyberciti.biz/faq/hello-world-bash-shell-script/\n"
      ],
      "metadata": {
        "id": "ap_nahl7w38O"
      }
    },
    {
      "cell_type": "code",
      "source": [
        "#!/bin/bash\n",
        "# Este es un script que imprime Hola Mundo\n",
        "\n",
        "echo \"Hola Mundo\""
      ],
      "metadata": {
        "id": "6JfiJwhIximn"
      },
      "execution_count": null,
      "outputs": []
    },
    {
      "cell_type": "markdown",
      "source": [
        "#hola mundo en c++\n",
        "\n",
        "C++ es un lenguaje de programación versátil que amplía el lenguaje C incorporando funciones como la programación orientada a objetos. Creado en 1979 por Bjarne Stroustrup, fue diseñado para brindar un control más preciso sobre los recursos del sistema, fusionando el rendimiento de C con características propias de lenguajes modernos.\n",
        "\n",
        "\n",
        "https://openwebinars.net/blog/que-es-cpp/\n",
        "https://www.aprendeaprogramar.com/cursos/verApartado.php?id=16001"
      ],
      "metadata": {
        "id": "Gebm7rABxt-O"
      }
    },
    {
      "cell_type": "code",
      "source": [
        "int main() {\n",
        "  std::string mensaje = \"Hola mundo\";\n",
        "  std::string& referencia_mensaje = mensaje;\n",
        "\n",
        "  std::cout << referencia_mensaje << std::endl;\n",
        "\n",
        "  return 0;"
      ],
      "metadata": {
        "id": "2TDD4IOYx_8O"
      },
      "execution_count": null,
      "outputs": []
    },
    {
      "cell_type": "markdown",
      "source": [
        "#hola mundo en c\n",
        "\n",
        "El lenguaje de programación C es uno de los más influyentes y utilizados en el mundo de la informática. Creado a inicios de la década de 1970, ha servido como fundamento para muchos lenguajes actuales y ha sido clave en la creación de sistemas operativos, aplicaciones y otros tipos de software.\n",
        "\n",
        "\n",
        "https://openwebinars.net/blog/que-es-c/\n",
        "https://www.abrirllave.com/c/ejemplo-hola-mundo.php\n"
      ],
      "metadata": {
        "id": "dIvvpBBMyIum"
      }
    },
    {
      "cell_type": "code",
      "source": [
        "#include <stdio.h>\n",
        "\n",
        "int main() {\n",
        "    // Imprime el mensaje en la consola\n",
        "    printf(\"Hola Mundo\\n\");\n",
        "    return 0;"
      ],
      "metadata": {
        "id": "P4Q06ujayfOO"
      },
      "execution_count": null,
      "outputs": []
    },
    {
      "cell_type": "markdown",
      "source": [
        "#hola mundo en javascript\n",
        "\n",
        "JavaScript es un lenguaje de programación utilizado por los desarrolladores para crear sitios web interactivos. Permite mejorar la experiencia del usuario al añadir elementos dinámicos como animaciones, mapas, menús desplegables o actualizaciones en tiempo real. Es una de las tecnologías esenciales de la Web y se ejecuta del lado del cliente, haciendo posible funciones como carruseles de imágenes o cambios visuales instantáneos en una página mientras navegas.\n",
        "\n",
        "https://aws.amazon.com/es/what-is/javascript/\n",
        "https://codingpotions.com/javascript-hello-world/"
      ],
      "metadata": {
        "id": "wUQGrrdHyj4d"
      }
    },
    {
      "cell_type": "code",
      "source": [
        "<!DOCTYPE html>\n",
        "<html>\n",
        "<head>\n",
        "  <title>Hola Mundo</title>\n",
        "</head>\n",
        "<body>\n",
        "\n",
        "<h1>Hola Mundo desde JavaScript</h1>\n",
        "\n",
        "<script>\n",
        "  console.log(\"Hola Mundo\");\n",
        "</script>\n",
        "\n",
        "</body>\n",
        "</html>"
      ],
      "metadata": {
        "id": "n8I-36xVy8VW"
      },
      "execution_count": null,
      "outputs": []
    },
    {
      "cell_type": "markdown",
      "source": [
        "#hola mundo en python\n",
        "\n",
        "Técnicamente, Python es un lenguaje de programación de alto nivel y orientado a objetos, que incorpora una semántica dinámica, siendo ideal para crear aplicaciones web y de escritorio. Es especialmente valorado en el Desarrollo Rápido de Aplicaciones (RAD) gracias a su tipado dinámico y su capacidad de enlace flexible durante la ejecución.\n",
        "\n",
        "\n",
        "https://www.cursosaula21.com/que-es-python/\n",
        "https://ellibrodepython.com/hola-mundo-python"
      ],
      "metadata": {
        "id": "aKTJUIbRzDfO"
      }
    },
    {
      "cell_type": "code",
      "source": [
        "print(\"Hola Mundo\")\n"
      ],
      "metadata": {
        "id": "ZnWdqIZlzgiW"
      },
      "execution_count": null,
      "outputs": []
    },
    {
      "cell_type": "markdown",
      "source": [
        "#Hola mundo en java\n",
        "\n",
        "Java es un lenguaje de programación y plataforma informática desarrollado por Sun Microsystems en 1995. Desde sus inicios, ha crecido hasta convertirse en una base sólida para gran parte del entorno digital actual, siendo utilizada en numerosos servicios y aplicaciones. Incluso hoy en día, muchos productos y soluciones tecnológicas innovadoras continúan construyéndose sobre Java.\n",
        "\n",
        "https://www.java.com/es/download/help/whatis_java.html\n",
        "https://www.programiz.com/java-programming/hello-world\n"
      ],
      "metadata": {
        "id": "2TLOZBXUzp11"
      }
    },
    {
      "cell_type": "code",
      "source": [
        "public class HolaMundo {\n",
        "\n",
        "    public static void main(String[] args) {\n",
        "        System.out.println(\"¡Hola, mundo!\");"
      ],
      "metadata": {
        "id": "ITJ4xpBEz7tF"
      },
      "execution_count": null,
      "outputs": []
    },
    {
      "cell_type": "markdown",
      "source": [
        "#hola mundo en rust\n",
        "\n",
        "Rust es un lenguaje de programación creado por ingenieros de Mozilla. Se considera relativamente reciente, ya que su versión 1.0 fue lanzada a inicios de 2015. En la actualidad, el lenguaje ha avanzado hasta alcanzar la versión 1.32.\n",
        "\n",
        "https://codigofacilito.com/articulos/rust\n",
        "https://doc.rust-lang.org/rust-by-example/hello.html\n",
        "\n"
      ],
      "metadata": {
        "id": "w2l9ZugW0Bl1"
      }
    },
    {
      "cell_type": "code",
      "source": [
        "fn main() {\n",
        "    println!(\"Hola Mundo\");\n",
        "}\n"
      ],
      "metadata": {
        "id": "MEp_swp20-KU"
      },
      "execution_count": null,
      "outputs": []
    }
  ]
}